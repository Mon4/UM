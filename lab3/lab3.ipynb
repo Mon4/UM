{
 "cells": [
  {
   "cell_type": "markdown",
   "metadata": {},
   "source": [
    "# lab 3 - Naive Bayes Classifier"
   ]
  },
  {
   "cell_type": "code",
   "metadata": {
    "ExecuteTime": {
     "end_time": "2024-10-25T15:05:30.059531Z",
     "start_time": "2024-10-25T15:05:30.056355Z"
    }
   },
   "source": [
    "from sklearn.metrics import accuracy_score, f1_score, precision_score\n",
    "from sklearn.model_selection import train_test_split\n",
    "from sklearn.naive_bayes import GaussianNB\n",
    "from sklearn.datasets import load_breast_cancer\n",
    "from sklearn.preprocessing import StandardScaler\n",
    "from sklearn.decomposition import PCA, KernelPCA"
   ],
   "outputs": [],
   "execution_count": 514
  },
  {
   "cell_type": "markdown",
   "metadata": {},
   "source": [
    "# Zadanie 1 i Zadanie 2\n",
    "\n",
    "Zaimplementuj Naiwny Klasyfikator Bayesa dla danych ciągłych zakładając normalny\n",
    "rozkład prawdopodobieństwa dla każdej z cech z osobna. W implementacji\n",
    "możesz użyć standardowego interfejsu scikit-learn dla modeli predykcyjnych -\n",
    "metody fit() oraz predict().\n",
    "\n",
    "Wyznacz średnią i odchylenie standardowe ciągłej cechy xi dla danej klasy Ck, a następnie oblicz prawdopodobieństwa posterior korzystając z Twierdzenia Bayesa oraz wiarygodności danej wzorem."
   ]
  },
  {
   "cell_type": "code",
   "metadata": {
    "ExecuteTime": {
     "end_time": "2024-10-25T14:27:14.078786Z",
     "start_time": "2024-10-25T14:27:14.073560Z"
    }
   },
   "source": [
    "from sklearn import datasets\n",
    "import pandas as pd\n",
    "import numpy as np\n",
    "\n",
    "iris = datasets.load_iris()\n",
    "iris_pd = pd.DataFrame(data= np.c_[iris['data'], iris['target']],\n",
    "                     columns= iris['feature_names'] + ['target'])\n"
   ],
   "outputs": [],
   "execution_count": 443
  },
  {
   "cell_type": "code",
   "metadata": {
    "ExecuteTime": {
     "end_time": "2024-10-25T14:27:14.356040Z",
     "start_time": "2024-10-25T14:27:14.351826Z"
    }
   },
   "source": "from math import pi, sqrt, exp, log10",
   "outputs": [],
   "execution_count": 444
  },
  {
   "metadata": {
    "ExecuteTime": {
     "end_time": "2024-10-25T14:27:42.799487Z",
     "start_time": "2024-10-25T14:27:42.794265Z"
    }
   },
   "cell_type": "code",
   "source": [
    "y_iris = iris_pd['target']\n",
    "X_iris = iris_pd.drop(columns=['target'])"
   ],
   "outputs": [],
   "execution_count": 451
  },
  {
   "cell_type": "code",
   "metadata": {
    "ExecuteTime": {
     "end_time": "2024-10-25T14:54:18.044273Z",
     "start_time": "2024-10-25T14:54:18.035512Z"
    }
   },
   "source": [
    "class NaiveBayesGaussian:\n",
    "    def __init__(self):\n",
    "        self.data = None\n",
    "        self.means = {}\n",
    "        self.vars = {}\n",
    "        self.classes = []\n",
    "        self.priors = []\n",
    "    \n",
    "    def fit(self, X, y):\n",
    "        self.data = X.assign(target=y)\n",
    "        self.classes = np.unique(y)\n",
    "        n_samples = len(y)\n",
    "        \n",
    "        # calculate priors\n",
    "        for cls in self.classes:\n",
    "            X_cls = X[y == cls]\n",
    "            self.means[cls] = np.mean(X_cls, axis=0)\n",
    "            self.vars[cls] = np.var(X_cls, axis=0)\n",
    "            self.priors.append(log10(len(X_cls) / n_samples))\n",
    "        \n",
    "    \n",
    "    def calculate_likelihood(self, example):\n",
    "        likelihood = []\n",
    "        cols = len(self.data.columns) - 2\n",
    "        \n",
    "        for c in self.classes:\n",
    "            p = 0\n",
    "            for i in range (0, cols):\n",
    "            \n",
    "                var_val = self.vars[c].iat[i]\n",
    "                mean_val = self.means[c].iat[i]\n",
    "                \n",
    "                square = 1/sqrt(2*pi*var_val)\n",
    "                exponent = exp((-(example[i]-mean_val)**2)/(2*var_val))\n",
    "                    \n",
    "                if exponent <= 0:\n",
    "                    exponent = 1e-9\n",
    "            \n",
    "                p += log10(square * exponent)\n",
    "            likelihood.append(p)\n",
    "        return likelihood\n",
    "    \n",
    "    def predict(self, X_test):\n",
    "        X_test = X_test.to_numpy()\n",
    "        predicted = []\n",
    "        for example in X_test:\n",
    "            likelihood = self.calculate_likelihood(example)\n",
    "            posterior = [a + b for a, b in zip(likelihood, self.priors)]\n",
    "            prediction = [1 if p==max(posterior) else 0 for p in posterior]\n",
    "            predicted.append(prediction.index(1))\n",
    "        return self.classes[predicted]\n"
   ],
   "outputs": [],
   "execution_count": 498
  },
  {
   "metadata": {},
   "cell_type": "markdown",
   "source": [
    "# Zadanie 3\n",
    "Przetestuj działanie własnej implementacji klasyfikatora dla zbioru danych Iris (4\n",
    "cechy). Zastosuj losowy podział zbioru danych na część trenignową i testową według\n",
    "proporcji 0.6, 0.4. Powtórz eksperyment 20-krotnie i zmierz średnie wartości:\n",
    "- accuracy\n",
    "- f1-score\n",
    "- precision\n",
    "\n",
    "Porównaj wyniki uzyskane z zastosowanie własnej implementacji oraz wyniki uzyskane\n",
    "za pomocą scikit-learn GaussianNB.\n"
   ]
  },
  {
   "metadata": {
    "ExecuteTime": {
     "end_time": "2024-10-25T17:13:34.142212Z",
     "start_time": "2024-10-25T17:13:34.135586Z"
    }
   },
   "cell_type": "code",
   "source": [
    "def count_20(model, X, y, test_pct=0.4, text=None):\n",
    "    results = np.zeros((20, 3))\n",
    "\n",
    "    for i in range(0, 20):\n",
    "        X_train, X_test, y_train, y_test = train_test_split(X_iris, y_iris, test_size=test_pct)\n",
    "        model.fit(X_train, y_train)\n",
    "        predicted = model.predict(X_test)\n",
    "        results[i, 0] = accuracy_score(predicted, y_test)\n",
    "        results[i, 1] = precision_score(predicted, y_test, average='macro')\n",
    "        results[i, 2] = f1_score(predicted, y_test, average='macro')\n",
    "    \n",
    "    mean_res = np.mean(results, axis=0) \n",
    "    \n",
    "    print(text)    \n",
    "    print(f'accuracy: {mean_res[0]}%')\n",
    "    print(f'precision: {mean_res[1]}')\n",
    "    print(f'f1_score: {mean_res[2]}')"
   ],
   "outputs": [],
   "execution_count": 583
  },
  {
   "metadata": {
    "ExecuteTime": {
     "end_time": "2024-10-25T14:58:07.019188Z",
     "start_time": "2024-10-25T14:58:06.903173Z"
    }
   },
   "cell_type": "code",
   "source": [
    "bayes = NaiveBayesGaussian()\n",
    "count_20(bayes, X_iris, y_iris, 'Wyniki zaimplementowanego Naive Bayes: ')"
   ],
   "outputs": [
    {
     "name": "stdout",
     "output_type": "stream",
     "text": [
      "Wyniki zaimplementowanego Naive Bayes: \n",
      "accuracy: 0.8916666666666666%\n",
      "precision: 0.8939150826234386\n",
      "f1_score: 0.8927736629189118\n"
     ]
    }
   ],
   "execution_count": 500
  },
  {
   "metadata": {},
   "cell_type": "markdown",
   "source": "### Porównanie z biblioteką"
  },
  {
   "metadata": {
    "ExecuteTime": {
     "end_time": "2024-10-25T14:58:40.263714Z",
     "start_time": "2024-10-25T14:58:40.186553Z"
    }
   },
   "cell_type": "code",
   "source": [
    "clf = GaussianNB()\n",
    "count_20(clf, X_iris, y_iris, 'Wyniki modelu z biblioteki: ')"
   ],
   "outputs": [
    {
     "name": "stdout",
     "output_type": "stream",
     "text": [
      "Wyniki modelu z biblioteki: \n",
      "accuracy: 0.9508333333333331%\n",
      "precision: 0.9500780514734615\n",
      "f1_score: 0.949944823615029\n"
     ]
    }
   ],
   "execution_count": 501
  },
  {
   "metadata": {},
   "cell_type": "markdown",
   "source": "Metoda Bayesa z bibliteki osiąga porównywalne wyniki co stworzona przeze mnie."
  },
  {
   "metadata": {},
   "cell_type": "markdown",
   "source": [
    "# Zadanie 4\n",
    "\n",
    "Przetestuj działanie klasyfikatora dla zbioru danych Breast Cancer (30 cech). Zastosuj trzy podane wyżej miary jakości klasyfikacji. Jako zbiór testowy wykorzystaj 0.3 dostępnego zbioru danych. Zbadaj wpływ:\n",
    "\n",
    "- skalowania (StandardScaler)\n",
    "- redukcji wymiaru (PCA i Kernel PCA, dobierz najlepszą wartość n components oraz funkcję jądra na Kernel PCA)\n",
    "- transformacji Box-Cox (dobierz najlepszą wartość parametru λ)\n",
    "\n",
    "na średnie wyniki klasyfikacji. Czy tego typu wstępne przetwarzanie zbioru danych wpływa na ich poprawę? Porównaj uzyskaną dokładność klasyfikacji (Naiwny Klasyfikator Bayesa) z dokładnością klasyfikacji uzykaną dla lasów losowych (domyślne wartości hiperparametrów) w tej samej konfiguracji eksperymentu. Omów uzyskane wyniki."
   ]
  },
  {
   "metadata": {
    "ExecuteTime": {
     "end_time": "2024-10-25T14:29:00.711694Z",
     "start_time": "2024-10-25T14:29:00.694973Z"
    }
   },
   "cell_type": "code",
   "source": [
    "data = load_breast_cancer()\n",
    "cancer = pd.DataFrame(np.c_[data['data'], data['target']], \n",
    "                      columns = np.append(data['feature_names'], ['target']))\n",
    "y_cancer = cancer['target']\n",
    "X_cancer = cancer.drop(columns=['target'])"
   ],
   "outputs": [],
   "execution_count": 461
  },
  {
   "metadata": {
    "ExecuteTime": {
     "end_time": "2024-10-25T14:27:24.681163Z",
     "start_time": "2024-10-25T14:27:24.670276Z"
    }
   },
   "cell_type": "code",
   "source": "cancer.head(3)",
   "outputs": [
    {
     "data": {
      "text/plain": [
       "   mean radius  mean texture  mean perimeter  mean area  mean smoothness  \\\n",
       "0        17.99         10.38           122.8     1001.0          0.11840   \n",
       "1        20.57         17.77           132.9     1326.0          0.08474   \n",
       "2        19.69         21.25           130.0     1203.0          0.10960   \n",
       "\n",
       "   mean compactness  mean concavity  mean concave points  mean symmetry  \\\n",
       "0           0.27760          0.3001              0.14710         0.2419   \n",
       "1           0.07864          0.0869              0.07017         0.1812   \n",
       "2           0.15990          0.1974              0.12790         0.2069   \n",
       "\n",
       "   mean fractal dimension  ...  worst texture  worst perimeter  worst area  \\\n",
       "0                 0.07871  ...          17.33            184.6      2019.0   \n",
       "1                 0.05667  ...          23.41            158.8      1956.0   \n",
       "2                 0.05999  ...          25.53            152.5      1709.0   \n",
       "\n",
       "   worst smoothness  worst compactness  worst concavity  worst concave points  \\\n",
       "0            0.1622             0.6656           0.7119                0.2654   \n",
       "1            0.1238             0.1866           0.2416                0.1860   \n",
       "2            0.1444             0.4245           0.4504                0.2430   \n",
       "\n",
       "   worst symmetry  worst fractal dimension  target  \n",
       "0          0.4601                  0.11890     0.0  \n",
       "1          0.2750                  0.08902     0.0  \n",
       "2          0.3613                  0.08758     0.0  \n",
       "\n",
       "[3 rows x 31 columns]"
      ],
      "text/html": [
       "<div>\n",
       "<style scoped>\n",
       "    .dataframe tbody tr th:only-of-type {\n",
       "        vertical-align: middle;\n",
       "    }\n",
       "\n",
       "    .dataframe tbody tr th {\n",
       "        vertical-align: top;\n",
       "    }\n",
       "\n",
       "    .dataframe thead th {\n",
       "        text-align: right;\n",
       "    }\n",
       "</style>\n",
       "<table border=\"1\" class=\"dataframe\">\n",
       "  <thead>\n",
       "    <tr style=\"text-align: right;\">\n",
       "      <th></th>\n",
       "      <th>mean radius</th>\n",
       "      <th>mean texture</th>\n",
       "      <th>mean perimeter</th>\n",
       "      <th>mean area</th>\n",
       "      <th>mean smoothness</th>\n",
       "      <th>mean compactness</th>\n",
       "      <th>mean concavity</th>\n",
       "      <th>mean concave points</th>\n",
       "      <th>mean symmetry</th>\n",
       "      <th>mean fractal dimension</th>\n",
       "      <th>...</th>\n",
       "      <th>worst texture</th>\n",
       "      <th>worst perimeter</th>\n",
       "      <th>worst area</th>\n",
       "      <th>worst smoothness</th>\n",
       "      <th>worst compactness</th>\n",
       "      <th>worst concavity</th>\n",
       "      <th>worst concave points</th>\n",
       "      <th>worst symmetry</th>\n",
       "      <th>worst fractal dimension</th>\n",
       "      <th>target</th>\n",
       "    </tr>\n",
       "  </thead>\n",
       "  <tbody>\n",
       "    <tr>\n",
       "      <th>0</th>\n",
       "      <td>17.99</td>\n",
       "      <td>10.38</td>\n",
       "      <td>122.8</td>\n",
       "      <td>1001.0</td>\n",
       "      <td>0.11840</td>\n",
       "      <td>0.27760</td>\n",
       "      <td>0.3001</td>\n",
       "      <td>0.14710</td>\n",
       "      <td>0.2419</td>\n",
       "      <td>0.07871</td>\n",
       "      <td>...</td>\n",
       "      <td>17.33</td>\n",
       "      <td>184.6</td>\n",
       "      <td>2019.0</td>\n",
       "      <td>0.1622</td>\n",
       "      <td>0.6656</td>\n",
       "      <td>0.7119</td>\n",
       "      <td>0.2654</td>\n",
       "      <td>0.4601</td>\n",
       "      <td>0.11890</td>\n",
       "      <td>0.0</td>\n",
       "    </tr>\n",
       "    <tr>\n",
       "      <th>1</th>\n",
       "      <td>20.57</td>\n",
       "      <td>17.77</td>\n",
       "      <td>132.9</td>\n",
       "      <td>1326.0</td>\n",
       "      <td>0.08474</td>\n",
       "      <td>0.07864</td>\n",
       "      <td>0.0869</td>\n",
       "      <td>0.07017</td>\n",
       "      <td>0.1812</td>\n",
       "      <td>0.05667</td>\n",
       "      <td>...</td>\n",
       "      <td>23.41</td>\n",
       "      <td>158.8</td>\n",
       "      <td>1956.0</td>\n",
       "      <td>0.1238</td>\n",
       "      <td>0.1866</td>\n",
       "      <td>0.2416</td>\n",
       "      <td>0.1860</td>\n",
       "      <td>0.2750</td>\n",
       "      <td>0.08902</td>\n",
       "      <td>0.0</td>\n",
       "    </tr>\n",
       "    <tr>\n",
       "      <th>2</th>\n",
       "      <td>19.69</td>\n",
       "      <td>21.25</td>\n",
       "      <td>130.0</td>\n",
       "      <td>1203.0</td>\n",
       "      <td>0.10960</td>\n",
       "      <td>0.15990</td>\n",
       "      <td>0.1974</td>\n",
       "      <td>0.12790</td>\n",
       "      <td>0.2069</td>\n",
       "      <td>0.05999</td>\n",
       "      <td>...</td>\n",
       "      <td>25.53</td>\n",
       "      <td>152.5</td>\n",
       "      <td>1709.0</td>\n",
       "      <td>0.1444</td>\n",
       "      <td>0.4245</td>\n",
       "      <td>0.4504</td>\n",
       "      <td>0.2430</td>\n",
       "      <td>0.3613</td>\n",
       "      <td>0.08758</td>\n",
       "      <td>0.0</td>\n",
       "    </tr>\n",
       "  </tbody>\n",
       "</table>\n",
       "<p>3 rows × 31 columns</p>\n",
       "</div>"
      ]
     },
     "execution_count": 450,
     "metadata": {},
     "output_type": "execute_result"
    }
   ],
   "execution_count": 450
  },
  {
   "metadata": {
    "ExecuteTime": {
     "end_time": "2024-10-25T17:09:48.847139Z",
     "start_time": "2024-10-25T17:09:48.734135Z"
    }
   },
   "cell_type": "code",
   "source": [
    "bayes = NaiveBayesGaussian()\n",
    "count_20(bayes, X_cancer, y_cancer, 0.3, 'Wyniki zaimplementowanego modelu - dane raka piersi - bez modyfikacji: ')"
   ],
   "outputs": [
    {
     "name": "stdout",
     "output_type": "stream",
     "text": [
      "Wyniki zaimplementowanego modelu - dane raka piersi - bez modyfikacji: \n",
      "accuracy: 0.8858333333333333%\n",
      "precision: 0.8848573019766427\n",
      "f1_score: 0.8814012226169259\n"
     ]
    }
   ],
   "execution_count": 582
  },
  {
   "metadata": {},
   "cell_type": "markdown",
   "source": "### Skalowanie"
  },
  {
   "metadata": {
    "ExecuteTime": {
     "end_time": "2024-10-25T14:43:11.780302Z",
     "start_time": "2024-10-25T14:43:11.774616Z"
    }
   },
   "cell_type": "code",
   "source": [
    "scaler = StandardScaler()\n",
    "scaler.fit(X_cancer)\n",
    "scaled_X = scaler.transform(X_cancer)"
   ],
   "outputs": [],
   "execution_count": 487
  },
  {
   "metadata": {
    "ExecuteTime": {
     "end_time": "2024-10-25T17:16:09.665592Z",
     "start_time": "2024-10-25T17:16:09.557724Z"
    }
   },
   "cell_type": "code",
   "source": "count_20(bayes, scaled_X, y_cancer, 0.3, 'Wyniki zaimplementowanego modelu - dane raka piersi - skalowanie danych ')",
   "outputs": [
    {
     "name": "stdout",
     "output_type": "stream",
     "text": [
      "Wyniki zaimplementowanego modelu - dane raka piersi - skalowanie danych \n",
      "accuracy: 0.8949999999999999%\n",
      "precision: 0.8963935667738332\n",
      "f1_score: 0.8946378916238951\n"
     ]
    }
   ],
   "execution_count": 587
  },
  {
   "metadata": {},
   "cell_type": "markdown",
   "source": "### PCA"
  },
  {
   "metadata": {
    "ExecuteTime": {
     "end_time": "2024-10-25T15:04:12.758667Z",
     "start_time": "2024-10-25T15:04:12.752791Z"
    }
   },
   "cell_type": "code",
   "source": [
    "pca = PCA(n_components=1)\n",
    "X_cancer_pca = pca.fit(X_cancer)\n",
    "print(pca.explained_variance_ratio_)"
   ],
   "outputs": [
    {
     "name": "stdout",
     "output_type": "stream",
     "text": [
      "[0.98204467]\n"
     ]
    }
   ],
   "execution_count": 512
  },
  {
   "metadata": {},
   "cell_type": "markdown",
   "source": "Odpowiednie n_components wynosi 1."
  },
  {
   "metadata": {
    "ExecuteTime": {
     "end_time": "2024-10-25T17:15:53.968907Z",
     "start_time": "2024-10-25T17:15:53.860737Z"
    }
   },
   "cell_type": "code",
   "source": "count_20(bayes, X_cancer_pca, y_cancer, 0.3,'Wyniki zaimplementowanego modelu - dane raka piersi - pca ')",
   "outputs": [
    {
     "name": "stdout",
     "output_type": "stream",
     "text": [
      "Wyniki zaimplementowanego modelu - dane raka piersi - pca \n",
      "accuracy: 0.8783333333333335%\n",
      "precision: 0.8786002772530794\n",
      "f1_score: 0.8749574342370465\n"
     ]
    }
   ],
   "execution_count": 586
  },
  {
   "metadata": {},
   "cell_type": "markdown",
   "source": "### Kernel PCA"
  },
  {
   "metadata": {
    "ExecuteTime": {
     "end_time": "2024-10-25T15:11:59.985330Z",
     "start_time": "2024-10-25T15:11:59.839937Z"
    }
   },
   "cell_type": "code",
   "source": [
    "from sklearn.model_selection import cross_val_score\n",
    "from sklearn.svm import SVC\n",
    "\n",
    "kernels = ['linear', 'poly', 'rbf', 'sigmoid']\n",
    "scores = {}\n",
    "\n",
    "for kernel in kernels:\n",
    "    kpca = KernelPCA(kernel=kernel, n_components=1)\n",
    "    X_kpca = kpca.fit_transform(X_cancer)\n",
    "    \n",
    "    svm = SVC()\n",
    "    score = cross_val_score(svm, X_kpca, y_cancer, cv=5)\n",
    "    scores[kernel] = score.mean()\n",
    "\n",
    "print(scores)"
   ],
   "outputs": [
    {
     "name": "stdout",
     "output_type": "stream",
     "text": [
      "{'linear': 0.9068933395435492, 'poly': 0.8858096568855768, 'rbf': 0.6274181027790716, 'sigmoid': 0.6274181027790716}\n"
     ]
    }
   ],
   "execution_count": 519
  },
  {
   "metadata": {},
   "cell_type": "markdown",
   "source": "Najlepsze wyniki dla kernala liniowego."
  },
  {
   "metadata": {
    "ExecuteTime": {
     "end_time": "2024-10-25T15:12:54.503816Z",
     "start_time": "2024-10-25T15:12:54.492983Z"
    }
   },
   "cell_type": "code",
   "source": [
    "kpca = KernelPCA(kernel='linear', n_components=1)\n",
    "X_cancer_kpca = kpca.fit_transform(X_cancer)"
   ],
   "outputs": [],
   "execution_count": 520
  },
  {
   "metadata": {
    "ExecuteTime": {
     "end_time": "2024-10-25T17:15:49.070417Z",
     "start_time": "2024-10-25T17:15:48.958877Z"
    }
   },
   "cell_type": "code",
   "source": "count_20(bayes, X_cancer_pca, y_cancer, 0.3, 'Wyniki zaimplementowanego modelu - dane raka piersi - kpca ')",
   "outputs": [
    {
     "name": "stdout",
     "output_type": "stream",
     "text": [
      "Wyniki zaimplementowanego modelu - dane raka piersi - kpca \n",
      "accuracy: 0.8783333333333333%\n",
      "precision: 0.8778606716130272\n",
      "f1_score: 0.8749890717952171\n"
     ]
    }
   ],
   "execution_count": 585
  },
  {
   "metadata": {},
   "cell_type": "markdown",
   "source": "### Box-Cox"
  },
  {
   "metadata": {
    "ExecuteTime": {
     "end_time": "2024-10-25T17:15:42.627494Z",
     "start_time": "2024-10-25T17:15:42.417962Z"
    }
   },
   "cell_type": "code",
   "source": [
    "from sklearn.preprocessing import PowerTransformer\n",
    "\n",
    "X_cancer_train, X_cancer_test, y_train, y_cancer_test = train_test_split(X_cancer, y_cancer, test_size=0.3)\n",
    "\n",
    "box_cox_transformer = PowerTransformer(method='box-cox', standardize=True)\n",
    "X_boxcox = box_cox_transformer.fit_transform(X_cancer + 0.01)\n",
    "\n",
    "count_20(bayes, X_boxcox, y_cancer_test, 0.3, 'Wyniki zaimplementowanego modelu - dane raka piersi - box-cox ')"
   ],
   "outputs": [
    {
     "name": "stdout",
     "output_type": "stream",
     "text": [
      "Wyniki zaimplementowanego modelu - dane raka piersi - box-cox \n",
      "accuracy: 0.8733333333333333%\n",
      "precision: 0.8746222490183208\n",
      "f1_score: 0.874142023099872\n"
     ]
    }
   ],
   "execution_count": 584
  },
  {
   "metadata": {},
   "cell_type": "markdown",
   "source": "Różnice jakości modeli z różnymi transformacjami danych są nieznaczne."
  },
  {
   "metadata": {},
   "cell_type": "markdown",
   "source": "# Zadanie 5 - Naiwny Klasyfikator Bayesa z rozkładem Bernoulliego"
  },
  {
   "metadata": {
    "ExecuteTime": {
     "end_time": "2024-10-25T18:33:36.497826Z",
     "start_time": "2024-10-25T18:33:36.236815Z"
    }
   },
   "cell_type": "code",
   "source": [
    "from sklearn.datasets import fetch_20newsgroups\n",
    "\n",
    "groups = fetch_20newsgroups()"
   ],
   "outputs": [],
   "execution_count": 613
  },
  {
   "metadata": {
    "ExecuteTime": {
     "end_time": "2024-10-25T18:34:00.217897Z",
     "start_time": "2024-10-25T18:33:37.644215Z"
    }
   },
   "cell_type": "code",
   "source": [
    "groups = pd.DataFrame(np.c_[groups['data'], groups['target']],\n",
    "                      columns = np.append(['text'], ['target']))\n",
    "y_group = groups['target']\n",
    "X_group = groups['text']"
   ],
   "outputs": [],
   "execution_count": 614
  },
  {
   "metadata": {
    "ExecuteTime": {
     "end_time": "2024-10-25T18:34:02.116282Z",
     "start_time": "2024-10-25T18:34:00.232393Z"
    }
   },
   "cell_type": "code",
   "source": [
    "from sklearn.feature_extraction.text import CountVectorizer\n",
    "\n",
    "X_train, X_test, y_train, y_test = train_test_split(X_group, y_group, test_size=0.3, random_state=42)\n",
    "\n",
    "vectorizer = CountVectorizer(binary=True)\n",
    "X_train_bow = vectorizer.fit_transform(X_train)\n",
    "X_test_bow = vectorizer.transform(X_test)"
   ],
   "outputs": [],
   "execution_count": 615
  },
  {
   "metadata": {
    "ExecuteTime": {
     "end_time": "2024-10-25T19:29:54.641548Z",
     "start_time": "2024-10-25T19:29:54.636097Z"
    }
   },
   "cell_type": "code",
   "source": [
    "class BernoulliNaiveBayes:\n",
    "    def __init__(self):\n",
    "        self.class_priors = {}\n",
    "        self.feature_probs = {}\n",
    "        self.classes = None\n",
    "        self.alpha = 1 \n",
    "\n",
    "    def fit(self, X, y):\n",
    "        self.classes = np.unique(y)\n",
    "        n_samples, n_features = X.shape\n",
    "        \n",
    "        for cls in self.classes:\n",
    "            X_cls = X[y == cls]\n",
    "            self.class_priors[cls] = (X_cls.shape[0] + self.alpha) / (n_samples + len(self.classes) * self.alpha)\n",
    "\n",
    "            \n",
    "            feature_count = X_cls.sum(axis=0) + self.alpha \n",
    "            total_count = X_cls.shape[0] + 2 * self.alpha  \n",
    "            self.feature_probs[cls] = feature_count / total_count\n",
    "\n",
    "    def predict(self, X):\n",
    "        predictions = []\n",
    "        \n",
    "        for x in X:\n",
    "            probs = {}\n",
    "            for cls in self.classes:\n",
    "                prior = np.log(self.class_priors[cls]) \n",
    "                feature_probs = np.clip(self.feature_probs[cls], 1e-10, 1 - 1e-10)\n",
    "                x = np.asarray(x)\n",
    "                likelihood = np.sum(x * np.log(feature_probs)) + np.sum((1 - x) * np.log(1 - feature_probs))\n",
    "                probs[cls] = prior + likelihood\n",
    "            \n",
    "            predictions.append(max(probs, key=probs.get))\n",
    "        \n",
    "        return np.array(predictions)"
   ],
   "outputs": [],
   "execution_count": 683
  },
  {
   "metadata": {
    "ExecuteTime": {
     "end_time": "2024-10-25T19:31:20.555824Z",
     "start_time": "2024-10-25T19:29:54.935192Z"
    }
   },
   "cell_type": "code",
   "source": [
    "model = BernoulliNaiveBayes()\n",
    "model.fit(X_train_bow.toarray(), y_train)\n",
    "predictions = model.predict(X_test_bow.toarray())"
   ],
   "outputs": [],
   "execution_count": 684
  },
  {
   "metadata": {
    "ExecuteTime": {
     "end_time": "2024-10-25T19:31:45.781788Z",
     "start_time": "2024-10-25T19:31:45.769473Z"
    }
   },
   "cell_type": "code",
   "source": [
    "from sklearn.metrics import accuracy_score\n",
    "accuracy = accuracy_score(y_test, predictions)\n",
    "print(f'Dokładność: {accuracy:.2f}')"
   ],
   "outputs": [
    {
     "name": "stdout",
     "output_type": "stream",
     "text": [
      "Dokładność: 0.65\n"
     ]
    }
   ],
   "execution_count": 686
  }
 ],
 "metadata": {
  "kernelspec": {
   "display_name": ".venv",
   "language": "python",
   "name": "python3"
  },
  "language_info": {
   "codemirror_mode": {
    "name": "ipython",
    "version": 3
   },
   "file_extension": ".py",
   "mimetype": "text/x-python",
   "name": "python",
   "nbconvert_exporter": "python",
   "pygments_lexer": "ipython3",
   "version": "3.12.4"
  }
 },
 "nbformat": 4,
 "nbformat_minor": 2
}
